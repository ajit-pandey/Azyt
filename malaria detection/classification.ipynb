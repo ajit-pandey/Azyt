{
 "cells": [
  {
   "cell_type": "code",
   "execution_count": 16,
   "metadata": {},
   "outputs": [],
   "source": [
    "#import basic libraries\n",
    "import pandas as pd\n",
    "from sklearn.model_selection import train_test_split\n",
    "from sklearn.ensemble import RandomForestClassifier,AdaBoostClassifier\n",
    "from sklearn import svm\n",
    "from sklearn import metrics\n",
    "import joblib #save the trained model"
   ]
  },
  {
   "cell_type": "code",
   "execution_count": 4,
   "metadata": {},
   "outputs": [
    {
     "data": {
      "text/html": [
       "<div>\n",
       "<style scoped>\n",
       "    .dataframe tbody tr th:only-of-type {\n",
       "        vertical-align: middle;\n",
       "    }\n",
       "\n",
       "    .dataframe tbody tr th {\n",
       "        vertical-align: top;\n",
       "    }\n",
       "\n",
       "    .dataframe thead th {\n",
       "        text-align: right;\n",
       "    }\n",
       "</style>\n",
       "<table border=\"1\" class=\"dataframe\">\n",
       "  <thead>\n",
       "    <tr style=\"text-align: right;\">\n",
       "      <th></th>\n",
       "      <th>Label</th>\n",
       "      <th>area_0</th>\n",
       "      <th>area_1</th>\n",
       "      <th>area_2</th>\n",
       "      <th>area_3</th>\n",
       "      <th>area_4</th>\n",
       "    </tr>\n",
       "  </thead>\n",
       "  <tbody>\n",
       "    <tr>\n",
       "      <th>0</th>\n",
       "      <td>Parasitized</td>\n",
       "      <td>175.5</td>\n",
       "      <td>126.0</td>\n",
       "      <td>131.0</td>\n",
       "      <td>8902.5</td>\n",
       "      <td>0.0</td>\n",
       "    </tr>\n",
       "    <tr>\n",
       "      <th>1</th>\n",
       "      <td>Parasitized</td>\n",
       "      <td>222.0</td>\n",
       "      <td>9847.5</td>\n",
       "      <td>0.0</td>\n",
       "      <td>0.0</td>\n",
       "      <td>0.0</td>\n",
       "    </tr>\n",
       "    <tr>\n",
       "      <th>2</th>\n",
       "      <td>Parasitized</td>\n",
       "      <td>179.5</td>\n",
       "      <td>256.5</td>\n",
       "      <td>12413.0</td>\n",
       "      <td>0.0</td>\n",
       "      <td>0.0</td>\n",
       "    </tr>\n",
       "    <tr>\n",
       "      <th>3</th>\n",
       "      <td>Parasitized</td>\n",
       "      <td>18.0</td>\n",
       "      <td>187.5</td>\n",
       "      <td>9306.5</td>\n",
       "      <td>0.0</td>\n",
       "      <td>0.0</td>\n",
       "    </tr>\n",
       "    <tr>\n",
       "      <th>4</th>\n",
       "      <td>Parasitized</td>\n",
       "      <td>142.5</td>\n",
       "      <td>156.5</td>\n",
       "      <td>6669.5</td>\n",
       "      <td>0.0</td>\n",
       "      <td>0.0</td>\n",
       "    </tr>\n",
       "  </tbody>\n",
       "</table>\n",
       "</div>"
      ],
      "text/plain": [
       "         Label  area_0  area_1   area_2  area_3  area_4\n",
       "0  Parasitized   175.5   126.0    131.0  8902.5     0.0\n",
       "1  Parasitized   222.0  9847.5      0.0     0.0     0.0\n",
       "2  Parasitized   179.5   256.5  12413.0     0.0     0.0\n",
       "3  Parasitized    18.0   187.5   9306.5     0.0     0.0\n",
       "4  Parasitized   142.5   156.5   6669.5     0.0     0.0"
      ]
     },
     "execution_count": 4,
     "metadata": {},
     "output_type": "execute_result"
    }
   ],
   "source": [
    "#step1: Load Dataset\n",
    "df = pd.read_csv(\"dataset2.csv\")\n",
    "df.head()\n"
   ]
  },
  {
   "cell_type": "code",
   "execution_count": 7,
   "metadata": {},
   "outputs": [],
   "source": [
    "#step2: Split dataset into traiing and testing dataset\n",
    "\n",
    "x = df.drop([\"Label\"],axis=1)\n",
    "y = df[\"Label\"]\n",
    "\n",
    "X_train, X_test, y_train, y_test = train_test_split(x, y, test_size=0.2, random_state=42)"
   ]
  },
  {
   "cell_type": "code",
   "execution_count": 20,
   "metadata": {},
   "outputs": [
    {
     "data": {
      "text/plain": [
       "['rf_malaria_100_5']"
      ]
     },
     "execution_count": 20,
     "metadata": {},
     "output_type": "execute_result"
    }
   ],
   "source": [
    "#step4: Build a model\n",
    "#since dataset is larger we use random forest classifier \n",
    "#we can also compare accuracy using other classifiers\n",
    "\n",
    "model = RandomForestClassifier(n_estimators=150, max_depth=7)\n",
    "model.fit(X_train,y_train)\n",
    "\n",
    "joblib.dump(model,\"rf_malaria_100_5\") \n"
   ]
  },
  {
   "cell_type": "code",
   "execution_count": 21,
   "metadata": {},
   "outputs": [
    {
     "name": "stdout",
     "output_type": "stream",
     "text": [
      "              precision    recall  f1-score   support\n",
      "\n",
      " Parasitized       0.89      0.90      0.90      2769\n",
      "  Uninfected       0.90      0.89      0.90      2743\n",
      "\n",
      "   micro avg       0.90      0.90      0.90      5512\n",
      "   macro avg       0.90      0.90      0.90      5512\n",
      "weighted avg       0.90      0.90      0.90      5512\n",
      "\n"
     ]
    }
   ],
   "source": [
    "predictions = model.predict(X_test)\n",
    "\n",
    "print(metrics.classification_report(predictions,y_test))"
   ]
  },
  {
   "cell_type": "code",
   "execution_count": 19,
   "metadata": {},
   "outputs": [
    {
     "name": "stderr",
     "output_type": "stream",
     "text": [
      "C:\\Anaconda\\lib\\site-packages\\sklearn\\svm\\base.py:196: FutureWarning: The default value of gamma will change from 'auto' to 'scale' in version 0.22 to account better for unscaled features. Set gamma explicitly to 'auto' or 'scale' to avoid this warning.\n",
      "  \"avoid this warning.\", FutureWarning)\n"
     ]
    },
    {
     "name": "stdout",
     "output_type": "stream",
     "text": [
      "              precision    recall  f1-score   support\n",
      "\n",
      " Parasitized       0.91      0.84      0.87      3051\n",
      "  Uninfected       0.82      0.90      0.86      2461\n",
      "\n",
      "   micro avg       0.86      0.86      0.86      5512\n",
      "   macro avg       0.86      0.87      0.86      5512\n",
      "weighted avg       0.87      0.86      0.86      5512\n",
      "\n"
     ]
    }
   ],
   "source": [
    "\n",
    "#Prediction using Support Vector Classifier(SVC)\n",
    "#it is mostly suited for small size dataset\n",
    "\n",
    "model1 = svm.SVC()\n",
    "model1.fit(X_train,y_train)\n",
    "predictions = model1.predict(X_test)\n",
    "\n",
    "print(metrics.classification_report(predictions,y_test))"
   ]
  },
  {
   "cell_type": "code",
   "execution_count": null,
   "metadata": {},
   "outputs": [],
   "source": []
  }
 ],
 "metadata": {
  "kernelspec": {
   "display_name": "Python 3",
   "language": "python",
   "name": "python3"
  },
  "language_info": {
   "codemirror_mode": {
    "name": "ipython",
    "version": 3
   },
   "file_extension": ".py",
   "mimetype": "text/x-python",
   "name": "python",
   "nbconvert_exporter": "python",
   "pygments_lexer": "ipython3",
   "version": "3.7.3"
  }
 },
 "nbformat": 4,
 "nbformat_minor": 2
}
