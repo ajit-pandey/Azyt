{
 "cells": [
  {
   "cell_type": "code",
   "execution_count": 26,
   "metadata": {},
   "outputs": [],
   "source": [
    "#import basic libraries\n",
    "import cv2,os\n",
    "import numpy as np\n",
    "import csv\n",
    "import glob #retrieve files/pathnames matching a specified pattern"
   ]
  },
  {
   "cell_type": "code",
   "execution_count": 27,
   "metadata": {},
   "outputs": [],
   "source": [
    "label = \"Uninfected\"\n",
    "dirlist = glob.glob(\"cell_images/\"+label+\"/*.png\") #extract all images in uninfected folder images\n",
    "file = open(\"csv/dataset.csv\",\"a\")"
   ]
  },
  {
   "cell_type": "code",
   "execution_count": 28,
   "metadata": {},
   "outputs": [],
   "source": [
    "for img_path in dirlist:   #read all the images from dirlist path\n",
    "    im = cv2.imread(\"img_path\")\n",
    "    im = cv2.GaussianBlur(im,(5,5),2) #here we take masking kernal of size (5,5) and deviation of 2 on both axes\n",
    "    \n",
    "    im_gray = cv2.cvtColor(im,cv2.COLOR_BGR2GRAY) #convert images into grayscale images\n",
    "    \n",
    "    ret,thresh = cv2.threshold(im_gray, 127,255,0) #threshloding for each pixels in image \n",
    "    \n",
    "    contours,_ = cv2.findContours(thresh,1,2) #looks for the boundaries in the image\n",
    "    \n",
    "    file.write(label)\n",
    "    file.write(\",\")\n",
    "    \n",
    "    for i in range(5): \n",
    "        try:\n",
    "            area = cv2.contourArea(contours[i]) #calculate area of the contours\n",
    "            \n",
    "            #save the file containing areas in different file\n",
    "            file.write(str(area)) \n",
    "        except:\n",
    "            file.write(\"0\")\n",
    "            \n",
    "        file.write(\",\")\n",
    "        \n",
    "    file.write(\"\\n\")\n",
    "    "
   ]
  },
  {
   "cell_type": "code",
   "execution_count": null,
   "metadata": {},
   "outputs": [],
   "source": []
  }
 ],
 "metadata": {
  "kernelspec": {
   "display_name": "Python 3",
   "language": "python",
   "name": "python3"
  },
  "language_info": {
   "codemirror_mode": {
    "name": "ipython",
    "version": 3
   },
   "file_extension": ".py",
   "mimetype": "text/x-python",
   "name": "python",
   "nbconvert_exporter": "python",
   "pygments_lexer": "ipython3",
   "version": "3.7.3"
  }
 },
 "nbformat": 4,
 "nbformat_minor": 2
}
